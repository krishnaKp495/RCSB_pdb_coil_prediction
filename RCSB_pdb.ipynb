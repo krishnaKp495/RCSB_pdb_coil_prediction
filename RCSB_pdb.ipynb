{
 "cells": [
  {
   "cell_type": "code",
   "execution_count": null,
   "id": "56a47500-5413-4934-b4f9-b81644f6ea63",
   "metadata": {},
   "outputs": [],
   "source": [
    "# Import all required libraries"
   ]
  },
  {
   "cell_type": "code",
   "execution_count": null,
   "id": "b7c17187-9a0c-417a-bd4b-59a681fb986f",
   "metadata": {},
   "outputs": [],
   "source": [
    "import pandas as pd\n",
    "import numpy as np\n",
    "from sklearn.preprocessing import StandardScaler\n",
    "from sklearn.model_selection import train_test_split, cross_val_score\n",
    "from sklearn.ensemble import RandomForestRegressor\n",
    "from sklearn.metrics import mean_squared_error"
   ]
  },
  {
   "cell_type": "code",
   "execution_count": null,
   "id": "086a1f13-7f5f-4c24-959d-93dd29dbfaa1",
   "metadata": {},
   "outputs": [],
   "source": [
    "df = pd.read_csv(\"RCSB_PDB.csv\")\n",
    "print(df.head(1))"
   ]
  },
  {
   "cell_type": "code",
   "execution_count": null,
   "id": "ba860d2b-75b6-4cd8-8c97-c12cefc719ff",
   "metadata": {},
   "outputs": [],
   "source": [
    "df_numerical = df.select_dtypes(include=['number'])          # Only select numerical data\n",
    "df_numerical.shape"
   ]
  },
  {
   "cell_type": "code",
   "execution_count": null,
   "id": "d1cff0b8-931b-430d-b57f-b449040a527d",
   "metadata": {},
   "outputs": [],
   "source": [
    "print(df_numerical.head(1))"
   ]
  },
  {
   "cell_type": "code",
   "execution_count": null,
   "id": "1fa7d2e0-f593-4506-b2df-f13e9ef1b121",
   "metadata": {},
   "outputs": [],
   "source": [
    "df_numerical.drop_duplicates()\n",
    "df_numerical.shape"
   ]
  },
  {
   "cell_type": "code",
   "execution_count": null,
   "id": "24d6d59a-6b83-4ae9-b7b9-cfeadfd5b027",
   "metadata": {},
   "outputs": [],
   "source": [
    "df_numerical.isnull().sum().sum()                            # Look for missing data"
   ]
  },
  {
   "cell_type": "code",
   "execution_count": null,
   "id": "6dfb47b2-dafc-44b8-bf41-65ee2e13de90",
   "metadata": {},
   "outputs": [],
   "source": [
    "df_drop = df_numerical.dropna(subset = [\"Helix\",\"Sheet\",\"Number of Chains\"])        # Drop rows with missing data in one of these columns\n",
    "df_drop.shape"
   ]
  },
  {
   "cell_type": "code",
   "execution_count": null,
   "id": "1e8ca89c-5b49-41c2-b3a8-f54a40ebc37d",
   "metadata": {},
   "outputs": [],
   "source": [
    "df_clean = df_drop.fillna(df_drop.select_dtypes(include='number').mean())           # Replace the missing data with mean of respective columns\n",
    "df_clean.shape"
   ]
  },
  {
   "cell_type": "code",
   "execution_count": null,
   "id": "eda26dfc-b827-4823-8302-a6b297ed3b76",
   "metadata": {},
   "outputs": [],
   "source": [
    "df_clean.isnull().sum()"
   ]
  },
  {
   "cell_type": "code",
   "execution_count": null,
   "id": "7e63f0d9-4b9a-4f8f-b58c-1eb2b4741a79",
   "metadata": {},
   "outputs": [],
   "source": [
    "x = df_clean.drop(columns = \"Coil\",axis = 1)                    # Drop the \"Coil\" column from x and save in y\n",
    "y = df_clean[\"Coil\"]\n",
    "x.shape"
   ]
  },
  {
   "cell_type": "code",
   "execution_count": null,
   "id": "49fe7976-eafd-4793-b2a7-e6207536bb54",
   "metadata": {},
   "outputs": [],
   "source": [
    "y.shape"
   ]
  },
  {
   "cell_type": "code",
   "execution_count": null,
   "id": "f89ef064-6ebb-4484-ad19-c292ab15af99",
   "metadata": {},
   "outputs": [],
   "source": [
    "scaler = StandardScaler()\n",
    "scaled_data = scaler.fit_transform(x)"
   ]
  },
  {
   "cell_type": "code",
   "execution_count": null,
   "id": "afb9babc-8cde-45ff-bb70-62d64a540fd6",
   "metadata": {},
   "outputs": [],
   "source": [
    "x = scaled_data"
   ]
  },
  {
   "cell_type": "code",
   "execution_count": null,
   "id": "e02ead3b-2e9e-4159-bc74-782a64411eb8",
   "metadata": {},
   "outputs": [],
   "source": [
    "print(x_tsne)"
   ]
  },
  {
   "cell_type": "code",
   "execution_count": null,
   "id": "995b0a78-d907-4adb-9f49-e24ebd79dfd1",
   "metadata": {},
   "outputs": [],
   "source": [
    "# Train, test and split"
   ]
  },
  {
   "cell_type": "code",
   "execution_count": null,
   "id": "e1b12873-8432-48a4-970e-246b09a6c8b7",
   "metadata": {},
   "outputs": [],
   "source": [
    "X_train, X_test, y_train, y_test = train_test_split(x, y, test_size=0.2, random_state=42)"
   ]
  },
  {
   "cell_type": "code",
   "execution_count": null,
   "id": "9f2eac40-ff0c-4c01-b1ed-5d7c00c734ef",
   "metadata": {},
   "outputs": [],
   "source": [
    "# Initialize the Random Forest Regressor"
   ]
  },
  {
   "cell_type": "code",
   "execution_count": null,
   "id": "9feb22a3-f90e-4fac-a72c-fa74ec79cb3b",
   "metadata": {},
   "outputs": [],
   "source": [
    "model = RandomForestRegressor(n_estimators=100, random_state=42)\n",
    "\n",
    "# Fit the model to the training data\n",
    "# Perform cross-validation\n",
    "cv_scores = cross_val_score(model, X_train, y_train, cv=5, scoring='neg_mean_squared_error')\n",
    "\n",
    "# Convert to RMSE\n",
    "cv_rmse = np.sqrt(-cv_scores)\n",
    "print(\"Cross-validated RMSE scores:\", cv_rmse)\n",
    "print(\"Mean RMSE from Cross-Validation:\", np.mean(cv_rmse))\n",
    "\n",
    "model.fit(X_train, y_train)\n",
    "\n",
    "# Make predictions\n",
    "\n",
    "predictions = model.predict(X_test)\n",
    "mse = mean_squared_error(y_test, predictions)\n",
    "rmse = np.sqrt(mse)\n",
    "print(f'Root Mean Squared Error: {rmse}')"
   ]
  },
  {
   "cell_type": "code",
   "execution_count": null,
   "id": "db086c37-b99d-41ad-b356-f947a51f0a72",
   "metadata": {},
   "outputs": [],
   "source": [
    "print(predictions)"
   ]
  },
  {
   "cell_type": "code",
   "execution_count": null,
   "id": "b0a61417-08a0-45bc-af33-57e6b76201b6",
   "metadata": {},
   "outputs": [],
   "source": []
  }
 ],
 "metadata": {
  "kernelspec": {
   "display_name": "Python 3 (ipykernel)",
   "language": "python",
   "name": "python3"
  },
  "language_info": {
   "codemirror_mode": {
    "name": "ipython",
    "version": 3
   },
   "file_extension": ".py",
   "mimetype": "text/x-python",
   "name": "python",
   "nbconvert_exporter": "python",
   "pygments_lexer": "ipython3",
   "version": "3.12.3"
  }
 },
 "nbformat": 4,
 "nbformat_minor": 5
}
